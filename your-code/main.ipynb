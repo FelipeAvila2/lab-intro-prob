{
 "cells": [
  {
   "cell_type": "markdown",
   "metadata": {},
   "source": [
    "# Introduction To Probability\n",
    "## Challenge 1\n",
    "\n",
    "A and B are events of a probability space with $(\\omega, \\sigma, P)$ such that $P(A) = 0.3$, $P(B) = 0.6$ and $P(A \\cap B) = 0.1$\n",
    "\n",
    "Which of the following statements are false?\n",
    "* $P(A \\cup B) = 0.6$\n",
    "* $P(A \\cap B^{C}) = 0.2$\n",
    "* $P(A \\cap (B \\cup B^{C})) = 0.4$\n",
    "* $P(A^{C} \\cap B^{C}) = 0.3$\n",
    "* $P((A \\cap B)^{C}) = 0.9$"
   ]
  },
  {
   "cell_type": "code",
   "execution_count": 20,
   "metadata": {},
   "outputs": [
    {
     "data": {
      "text/plain": [
       "\"\\nP (A) = 0.3\\nP (B) = 0.6\\nP (A intersect B) = 0.1\\n\\nP (A union B) = P (A) + P (B) - P (A intersect B)\\n\\nP (A union B) = 0.3 + 0.6 - 0.1\\nP (A union B) = 0.8\\n\\nFALSE\\n\\n-------------------\\n\\nP (B') = 0.4\\n\\nP (A intersect B') = P (A) - P (A intersect B)\\n\\nP (A intersect B') = 0.3 - 0.1\\nP (A intersect B') = 0.2\\n\\nTRUE\\n\\n---------------------\\n\\nP (B union B') = 1\\n\\nP (A intersect 1) = P (A)\\nP (A) = 0.3\\n\\nFALSE\\n\\n----------------------\\n\\nP (A union B) = 0.8\\n\\nP (A' intersect B') = 1 - 0.8\\nP (A' intersect B') = 0.2\\n\\nFALSE\\n\\n----------------------\\n\\n\\nP (A intersect B) = 0.1\\np (A intersect B)' = 0.9\\n\\n\\nTRUE\\n\\n\\n\\n\""
      ]
     },
     "execution_count": 20,
     "metadata": {},
     "output_type": "execute_result"
    }
   ],
   "source": [
    "\"\"\"\n",
    "P (A) = 0.3\n",
    "P (B) = 0.6\n",
    "P (A intersect B) = 0.1\n",
    "\n",
    "P (A union B) = P (A) + P (B) - P (A intersect B)\n",
    "\n",
    "P (A union B) = 0.3 + 0.6 - 0.1\n",
    "P (A union B) = 0.8\n",
    "\n",
    "FALSE\n",
    "\n",
    "-------------------\n",
    "\n",
    "P (B') = 0.4\n",
    "\n",
    "P (A intersect B') = P (A) - P (A intersect B)\n",
    "\n",
    "P (A intersect B') = 0.3 - 0.1\n",
    "P (A intersect B') = 0.2\n",
    "\n",
    "TRUE\n",
    "\n",
    "---------------------\n",
    "\n",
    "P (B union B') = 1\n",
    "\n",
    "P (A intersect 1) = P (A)\n",
    "P (A) = 0.3\n",
    "\n",
    "FALSE\n",
    "\n",
    "----------------------\n",
    "\n",
    "P (A union B) = 0.8\n",
    "\n",
    "P (A' intersect B') = 1 - 0.8\n",
    "P (A' intersect B') = 0.2\n",
    "\n",
    "FALSE\n",
    "\n",
    "----------------------\n",
    "\n",
    "\n",
    "P (A intersect B) = 0.1\n",
    "p (A intersect B)' = 0.9\n",
    "\n",
    "\n",
    "TRUE\n",
    "\n",
    "\n",
    "\n",
    "\"\"\""
   ]
  },
  {
   "cell_type": "markdown",
   "metadata": {},
   "source": [
    "## Challenge 2\n",
    "There is a box with 10 white balls, 12 red balls and 8 black balls. Calculate the probability of:\n",
    "* Taking a white ball out.\n",
    "* Taking a white ball out after taking a black ball out.\n",
    "* Taking a red ball out after taking a black and a red ball out.\n",
    "* Taking a red ball out after taking a black and a red ball out with reposition.\n",
    "\n",
    "**Hint**: Reposition means putting back the ball into the box after taking it out."
   ]
  },
  {
   "cell_type": "code",
   "execution_count": 19,
   "metadata": {},
   "outputs": [
    {
     "data": {
      "text/plain": [
       "'\\nW+R+B=30\\n\\n\\nP (W) = 10/30\\nP (R) = 12/30\\nP (B) = 8/30\\n\\nTAKING A WHITE BALL OUT: 1/3\\n\\nTAKING A WHITE BALL OUT AFTER TAKING A BLACK BALL OUT: 10/29\\n\\nTAKING A RED BALL OUT AFTER TAKING A BLACK AND RED BALL OUT: 11/28\\n\\nTAKING A RED BALL OUT AFTER TAKING A BLACK AND A RED BALL OUT WITH REPOSITION: 12/30\\n\\n\\n\\n'"
      ]
     },
     "execution_count": 19,
     "metadata": {},
     "output_type": "execute_result"
    }
   ],
   "source": [
    "\"\"\"\n",
    "W+R+B=30\n",
    "\n",
    "\n",
    "P (W) = 10/30\n",
    "P (R) = 12/30\n",
    "P (B) = 8/30\n",
    "\n",
    "TAKING A WHITE BALL OUT: 1/3\n",
    "\n",
    "TAKING A WHITE BALL OUT AFTER TAKING A BLACK BALL OUT: 10/29\n",
    "\n",
    "TAKING A RED BALL OUT AFTER TAKING A BLACK AND RED BALL OUT: 11/28\n",
    "\n",
    "TAKING A RED BALL OUT AFTER TAKING A BLACK AND A RED BALL OUT WITH REPOSITION: 12/30\n",
    "\n",
    "\n",
    "\n",
    "\"\"\""
   ]
  },
  {
   "cell_type": "markdown",
   "metadata": {},
   "source": [
    "## Challenge 3\n",
    "\n",
    "You are planning to go on a picnic today but the morning is cloudy. You hate rain so you don't know whether to go out or stay home! To help you make a decision, you gather the following data about rainy days:\n",
    "\n",
    "* Knowing that it is a rainy day, the probability of cloudy is 50%!\n",
    "* The probability of any day (rainy or not) starting off cloudy is 40%. \n",
    "* This month is usually dry so only 3 of 30 days (10%) tend to be rainy. \n",
    "\n",
    "What is the probability of rain, given the day started cloudy?"
   ]
  },
  {
   "cell_type": "code",
   "execution_count": 18,
   "metadata": {},
   "outputs": [
    {
     "data": {
      "text/plain": [
       "'\\nP (C|R) = 0.5\\nP (C) = 0.4\\nP (R) = 0.1\\n\\nP (R|C) = ?\\n\\nP (C|R) = P (C intersect R) / P (R)\\n0.5 = P (C intersect R) / 0.1\\n0.5*0.1 = P (C intersect R)\\n0.05 = P (C intersect R)\\n\\nP (R|C) = 0.05 / P (C)\\nP (R|C) = 0.05 / 0.4\\n\\nP (R|C) = 0.125\\n\\n'"
      ]
     },
     "execution_count": 18,
     "metadata": {},
     "output_type": "execute_result"
    }
   ],
   "source": [
    "\"\"\"\n",
    "P (C|R) = 0.5\n",
    "P (C) = 0.4\n",
    "P (R) = 0.1\n",
    "\n",
    "P (R|C) = ?\n",
    "\n",
    "P (C|R) = P (C intersect R) / P (R)\n",
    "0.5 = P (C intersect R) / 0.1\n",
    "0.5*0.1 = P (C intersect R)\n",
    "0.05 = P (C intersect R)\n",
    "\n",
    "P (R|C) = 0.05 / P (C)\n",
    "P (R|C) = 0.05 / 0.4\n",
    "\n",
    "P (R|C) = 0.125\n",
    "\n",
    "\"\"\""
   ]
  },
  {
   "cell_type": "markdown",
   "metadata": {},
   "source": [
    "## Challenge 4\n",
    "\n",
    "One thousand people were asked through a telephone survey whether they thought more street lighting is needed at night or not.\n",
    "\n",
    "Out of the 480 men that answered the survey, 324 said yes and 156 said no. On the other hand, out of the 520 women that answered, 351 said yes and 169 said no. \n",
    "\n",
    "We wonder if men and women have a different opinions about the street lighting matter. Is gender relevant or irrelevant to the question?\n",
    "\n",
    "Consider the following events:\n",
    "- The answer is yes, so the person that answered thinks that more street lighting is needed.\n",
    "- The person who answered is a man.\n",
    "\n",
    "We want to know if these events are independent, that is, if the fact of wanting more light depends on whether one is male or female. Are these events independent or not?\n",
    "\n",
    "**Hint**: To clearly compare the answers by gender, it is best to place the data in a table."
   ]
  },
  {
   "cell_type": "code",
   "execution_count": 9,
   "metadata": {},
   "outputs": [],
   "source": [
    "# your code here\n",
    "import pandas as pd\n",
    "\n",
    "new_dict = {\n",
    "    'gender': ['men','men','women','women'],\n",
    "    'response': ['yes','no','yes','no'],\n",
    "    'amount': [324,156,351,169]\n",
    "}\n",
    "\n",
    "data = pd.DataFrame(new_dict)"
   ]
  },
  {
   "cell_type": "code",
   "execution_count": 10,
   "metadata": {},
   "outputs": [
    {
     "data": {
      "text/html": [
       "<div>\n",
       "<style scoped>\n",
       "    .dataframe tbody tr th:only-of-type {\n",
       "        vertical-align: middle;\n",
       "    }\n",
       "\n",
       "    .dataframe tbody tr th {\n",
       "        vertical-align: top;\n",
       "    }\n",
       "\n",
       "    .dataframe thead th {\n",
       "        text-align: right;\n",
       "    }\n",
       "</style>\n",
       "<table border=\"1\" class=\"dataframe\">\n",
       "  <thead>\n",
       "    <tr style=\"text-align: right;\">\n",
       "      <th></th>\n",
       "      <th>gender</th>\n",
       "      <th>response</th>\n",
       "      <th>amount</th>\n",
       "    </tr>\n",
       "  </thead>\n",
       "  <tbody>\n",
       "    <tr>\n",
       "      <th>0</th>\n",
       "      <td>men</td>\n",
       "      <td>yes</td>\n",
       "      <td>324</td>\n",
       "    </tr>\n",
       "    <tr>\n",
       "      <th>1</th>\n",
       "      <td>men</td>\n",
       "      <td>no</td>\n",
       "      <td>156</td>\n",
       "    </tr>\n",
       "    <tr>\n",
       "      <th>2</th>\n",
       "      <td>women</td>\n",
       "      <td>yes</td>\n",
       "      <td>351</td>\n",
       "    </tr>\n",
       "    <tr>\n",
       "      <th>3</th>\n",
       "      <td>women</td>\n",
       "      <td>no</td>\n",
       "      <td>169</td>\n",
       "    </tr>\n",
       "  </tbody>\n",
       "</table>\n",
       "</div>"
      ],
      "text/plain": [
       "  gender response  amount\n",
       "0    men      yes     324\n",
       "1    men       no     156\n",
       "2  women      yes     351\n",
       "3  women       no     169"
      ]
     },
     "execution_count": 10,
     "metadata": {},
     "output_type": "execute_result"
    }
   ],
   "source": [
    "data"
   ]
  },
  {
   "cell_type": "code",
   "execution_count": 12,
   "metadata": {},
   "outputs": [
    {
     "data": {
      "text/html": [
       "<div>\n",
       "<style scoped>\n",
       "    .dataframe tbody tr th:only-of-type {\n",
       "        vertical-align: middle;\n",
       "    }\n",
       "\n",
       "    .dataframe tbody tr th {\n",
       "        vertical-align: top;\n",
       "    }\n",
       "\n",
       "    .dataframe thead th {\n",
       "        text-align: right;\n",
       "    }\n",
       "</style>\n",
       "<table border=\"1\" class=\"dataframe\">\n",
       "  <thead>\n",
       "    <tr style=\"text-align: right;\">\n",
       "      <th></th>\n",
       "      <th>amount</th>\n",
       "    </tr>\n",
       "    <tr>\n",
       "      <th>gender</th>\n",
       "      <th></th>\n",
       "    </tr>\n",
       "  </thead>\n",
       "  <tbody>\n",
       "    <tr>\n",
       "      <th>men</th>\n",
       "      <td>480</td>\n",
       "    </tr>\n",
       "    <tr>\n",
       "      <th>women</th>\n",
       "      <td>520</td>\n",
       "    </tr>\n",
       "  </tbody>\n",
       "</table>\n",
       "</div>"
      ],
      "text/plain": [
       "        amount\n",
       "gender        \n",
       "men        480\n",
       "women      520"
      ]
     },
     "execution_count": 12,
     "metadata": {},
     "output_type": "execute_result"
    }
   ],
   "source": [
    "data.groupby('gender').agg({'amount':'sum'})"
   ]
  },
  {
   "cell_type": "code",
   "execution_count": 16,
   "metadata": {},
   "outputs": [
    {
     "data": {
      "text/html": [
       "<div>\n",
       "<style scoped>\n",
       "    .dataframe tbody tr th:only-of-type {\n",
       "        vertical-align: middle;\n",
       "    }\n",
       "\n",
       "    .dataframe tbody tr th {\n",
       "        vertical-align: top;\n",
       "    }\n",
       "\n",
       "    .dataframe thead th {\n",
       "        text-align: right;\n",
       "    }\n",
       "</style>\n",
       "<table border=\"1\" class=\"dataframe\">\n",
       "  <thead>\n",
       "    <tr style=\"text-align: right;\">\n",
       "      <th></th>\n",
       "      <th></th>\n",
       "      <th>amount</th>\n",
       "    </tr>\n",
       "    <tr>\n",
       "      <th>gender</th>\n",
       "      <th>response</th>\n",
       "      <th></th>\n",
       "    </tr>\n",
       "  </thead>\n",
       "  <tbody>\n",
       "    <tr>\n",
       "      <th rowspan=\"2\" valign=\"top\">men</th>\n",
       "      <th>no</th>\n",
       "      <td>156</td>\n",
       "    </tr>\n",
       "    <tr>\n",
       "      <th>yes</th>\n",
       "      <td>324</td>\n",
       "    </tr>\n",
       "    <tr>\n",
       "      <th rowspan=\"2\" valign=\"top\">women</th>\n",
       "      <th>no</th>\n",
       "      <td>169</td>\n",
       "    </tr>\n",
       "    <tr>\n",
       "      <th>yes</th>\n",
       "      <td>351</td>\n",
       "    </tr>\n",
       "  </tbody>\n",
       "</table>\n",
       "</div>"
      ],
      "text/plain": [
       "                 amount\n",
       "gender response        \n",
       "men    no           156\n",
       "       yes          324\n",
       "women  no           169\n",
       "       yes          351"
      ]
     },
     "execution_count": 16,
     "metadata": {},
     "output_type": "execute_result"
    }
   ],
   "source": [
    "data.groupby(['gender','response']).agg({'amount':'sum'})"
   ]
  },
  {
   "cell_type": "code",
   "execution_count": 17,
   "metadata": {},
   "outputs": [
    {
     "data": {
      "text/plain": [
       "\"\\nWe want to know if these events are independent, that is, \\nif the fact of wanting more light depends on whether one is male or female. Are these events independent or not?\\n\\nP ('men') = 48/100\\n\\nP ('yes') = 675/1000\\n\\nP ('men' union 'yes') = 324/1000\\n\\nP ('men' union 'yes') = P ('men') * P ('yes')\\n\\n324/1000 = 48/100 * 675/1000\\n\\n0,324 = 0,324 \\n\\nMEN AND WANTING LIGHT ARE DEPENDENT\\n\\nP ('women') = 52/100\\n\\nP ('yes') = 675/1000\\n\\nP('women' union ' yes') = 351/1000\\n\\nP ('women' union 'yes') = P ('women') * P ('yes')\\n\\n351/1000 = 52/100 * 675/1000\\n\\n0,351 = 0,351\\n\\nWOMEN AND WANTING LIGHT ARE DEPENDENT\\n\\n\""
      ]
     },
     "execution_count": 17,
     "metadata": {},
     "output_type": "execute_result"
    }
   ],
   "source": [
    "\"\"\"\n",
    "We want to know if these events are independent, that is, \n",
    "if the fact of wanting more light depends on whether one is male or female. Are these events independent or not?\n",
    "\n",
    "P ('men') = 48/100\n",
    "\n",
    "P ('yes') = 675/1000\n",
    "\n",
    "P ('men' union 'yes') = 324/1000\n",
    "\n",
    "P ('men' union 'yes') = P ('men') * P ('yes')\n",
    "\n",
    "324/1000 = 48/100 * 675/1000\n",
    "\n",
    "0,324 = 0,324 \n",
    "\n",
    "MEN AND WANTING LIGHT ARE DEPENDENT\n",
    "\n",
    "P ('women') = 52/100\n",
    "\n",
    "P ('yes') = 675/1000\n",
    "\n",
    "P('women' union ' yes') = 351/1000\n",
    "\n",
    "P ('women' union 'yes') = P ('women') * P ('yes')\n",
    "\n",
    "351/1000 = 52/100 * 675/1000\n",
    "\n",
    "0,351 = 0,351\n",
    "\n",
    "WOMEN AND WANTING LIGHT ARE DEPENDENT\n",
    "\n",
    "\"\"\""
   ]
  },
  {
   "cell_type": "code",
   "execution_count": null,
   "metadata": {},
   "outputs": [],
   "source": []
  }
 ],
 "metadata": {
  "kernelspec": {
   "display_name": "Python 3",
   "language": "python",
   "name": "python3"
  },
  "language_info": {
   "codemirror_mode": {
    "name": "ipython",
    "version": 3
   },
   "file_extension": ".py",
   "mimetype": "text/x-python",
   "name": "python",
   "nbconvert_exporter": "python",
   "pygments_lexer": "ipython3",
   "version": "3.8.5"
  }
 },
 "nbformat": 4,
 "nbformat_minor": 2
}
